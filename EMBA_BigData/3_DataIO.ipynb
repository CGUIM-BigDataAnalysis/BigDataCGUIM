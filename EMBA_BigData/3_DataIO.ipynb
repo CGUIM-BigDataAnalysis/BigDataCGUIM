{
  "cells": [
    {
      "cell_type": "raw",
      "metadata": {},
      "source": [
        "---\n",
        "title: \"3. Data I/O\"\n",
        "author: \"Yi-Ju Tseng\"\n",
        "format:\n",
        "  revealjs:\n",
        "    slide-number: c/t\n",
        "    show-slide-number: all\n",
        "editor: visual\n",
        "---"
      ],
      "id": "9cfca133"
    },
    {
      "cell_type": "markdown",
      "metadata": {},
      "source": [
        "## 資料分析步驟\n",
        "\n",
        "-   **資料匯入與匯出**\n",
        "-   資料清洗處理\n",
        "-   資料分析\n",
        "-   資料呈現與視覺化\n",
        "\n",
        "## 資料匯入與匯出\n",
        "\n",
        "-   從檔案匯入\n",
        "-   從Google drive匯入\n",
        "-   從網路匯入\n",
        "-   從Twitter匯入\n",
        "-   資料匯出\n",
        "\n",
        "## 前置作業\n"
      ],
      "id": "db220d0e"
    },
    {
      "cell_type": "code",
      "metadata": {},
      "source": [
        "import ssl\n",
        "\n",
        "ssl._create_default_https_context = ssl._create_unverified_context"
      ],
      "id": "a7c54b80",
      "execution_count": null,
      "outputs": []
    },
    {
      "cell_type": "markdown",
      "metadata": {},
      "source": [
        "# 從檔案匯入\n",
        "\n",
        "## 從檔案匯入\n",
        "\n",
        "-   .csv 逗號分隔格式檔案\n",
        "-   .xls Excel格式檔案\n",
        "-   純文字資料 (無分隔)\n",
        "-   其他格式\n",
        "\n",
        "## .csv 逗號分隔格式檔案\n",
        "\n",
        "-   .csv 為逗號分隔格式檔案\n",
        "-   可用`pandas`的`read_csv(檔案路徑)`功能將檔案匯入\n",
        "-   檔案路徑可以是本機端路徑，也可以是網址\n"
      ],
      "id": "016b1587"
    },
    {
      "cell_type": "code",
      "metadata": {},
      "source": [
        "#| echo: true\n",
        "import pandas as pd\n",
        "df_csv = pd.read_csv(\"https://quality.data.gov.tw//dq_download_csv.php?nid=102775&md5_url=ea56d6e1f2642b2c5c44f9e8b6185d54\")\n",
        "df_csv.head()"
      ],
      "id": "727beaaa",
      "execution_count": null,
      "outputs": []
    },
    {
      "cell_type": "markdown",
      "metadata": {},
      "source": [
        "## Hands-on - .csv檔案匯入\n",
        "\n",
        "-   以[上市公司每月營業收入彙總表](https://data.gov.tw/dataset/18420)為例\n",
        "-   複製`csv`資料下載網址\n",
        "-   用pandas 的 read_csv()函數將檔案匯入\n",
        "-   匯入後印出前5個row\n",
        "\n",
        "![](figures/downloadcsv.png)\n",
        "\n",
        "## .xls Excel格式檔案\n",
        "\n",
        "-   需要安裝`openpyxl`和`xlrd`套件\n"
      ],
      "id": "649634cd"
    },
    {
      "cell_type": "code",
      "metadata": {},
      "source": [
        "#| echo: true\n",
        "#| eval: false\n",
        "!pip3 install openpyxl xlrd"
      ],
      "id": "25ed8827",
      "execution_count": null,
      "outputs": []
    },
    {
      "cell_type": "markdown",
      "metadata": {},
      "source": [
        "## .xls Excel格式檔案\n",
        "\n",
        "-   使用`pandas`套件中的`read_excel(檔案路徑)`功能\n",
        "-   檔案路徑可以是本機端路徑，也可以是網址\n",
        "-   可設定`sheet_name`參數指定工作表名稱\n"
      ],
      "id": "46cb8d1d"
    },
    {
      "cell_type": "code",
      "metadata": {},
      "source": [
        "#| echo: true\n",
        "house = pd.read_excel('https://github.com/CGUIM-BigDataAnalysis/BigDataCGUIM/raw/master/EMBA_BigData/Data/%E6%96%B0%E7%AB%B9%E4%B8%8D%E5%8B%95%E7%94%A2.xls',sheet_name = \"不動產買賣\")  \n",
        "house.head()"
      ],
      "id": "58635309",
      "execution_count": null,
      "outputs": []
    },
    {
      "cell_type": "markdown",
      "metadata": {},
      "source": [
        "## Hands-on - .xls Excel格式檔案\n",
        "\n",
        "-   以[雲林縣水位雨量站](https://data.gov.tw/dataset/145466)為例\n",
        "-   複製`Excel`資料下載網址\n",
        "-   用pandas 的 read_excel()函數將檔案匯入，記得設定工作表名稱\n",
        "-   匯入後印出第三個row\n",
        "\n",
        "# 從Google drive匯入\n",
        "\n",
        "## 從Google drive匯入 - google 試算表\n",
        "\n",
        "-   可直接用`pandas`套件\n",
        "-   需要加工連結，在原始連結最後加上`/export?format=csv`\n",
        "-   如果不是公開資料表，需要授權，可參考`google-api-python-client`套件\n"
      ],
      "id": "60857e6d"
    },
    {
      "cell_type": "code",
      "metadata": {},
      "source": [
        "#| echo: true\n",
        "link=\"https://docs.google.com/spreadsheets/d/19KtePrMIdmF1N3nyqQNFvp10JoN62cgAERhjFNcjJr8\"\n",
        "csv_link=\"/export?format=csv\"\n",
        "pd.read_csv(link+csv_link)"
      ],
      "id": "33b9c076",
      "execution_count": null,
      "outputs": []
    },
    {
      "cell_type": "markdown",
      "metadata": {},
      "source": [
        "# 從網路匯入\n",
        "\n",
        "## 從網路匯入\n",
        "\n",
        "-   Open Data\n",
        "-   API (Application programming interfaces)\n",
        "-   JSON格式檔案\n",
        "-   網頁爬蟲 Webscraping\n",
        "\n",
        "## Open Data 開放資料\n",
        "\n",
        "-   2011年推動開放政府與開放資料 ([維基百科](https://zh.wikipedia.org/wiki/%E9%96%8B%E6%94%BE%E8%B3%87%E6%96%99))\n",
        "-   不受著作權、專利權，以及其他管理機制所限制，任何人都可以自由出版使用\n",
        "-   常見的儲存方式為:\n",
        "    -   `CSV`\n",
        "    -   `JSON`\n",
        "    -   `XML`\n",
        "\n",
        "## Open Data 開放資料常見平台\n",
        "\n",
        "-   [政府資料開放平台](https://data.gov.tw/)\n",
        "-   [台北市資料大平台](https://data.taipei/)\n",
        "-   [桃園開放資料](https://data.tycg.gov.tw/)\n",
        "\n",
        "## API\n",
        "\n",
        "-   應用程式介面\n",
        "-   **A**pplication **P**rogramming **I**nterfaces\n",
        "-   為了讓第三方的開發者可以額外開發應用程式來強化他們的產品，推出可以與系統溝通的介面\n",
        "-   有API輔助可將資料擷取過程自動化\n",
        "    -   以下載Open Data為例，若檔案更新頻繁，使用手動下載相當耗時\n",
        "-   [維基百科](https://zh.wikipedia.org/zh-tw/%E5%BA%94%E7%94%A8%E7%A8%8B%E5%BA%8F%E6%8E%A5%E5%8F%A3)\n",
        "\n",
        "## API - Open Data\n",
        "\n",
        "::: columns\n",
        "::: column\n",
        "-   [桃園公共自行車即時服務資料](http://data.tycg.gov.tw/opendata/datalist/datasetMeta?oid=5ca2bfc7-9ace-4719-88ae-4034b9a5a55c)資料\n",
        "-   每日更新\n",
        "-   不可能每日手動下載\n",
        "-   提供透過**API**下載的服務\n",
        "-   透過API下載的資料格式: **JSON格式**\n",
        ":::\n",
        "\n",
        "::: column\n",
        "-   [桃園公共自行車即時服務資料API資訊](http://data.tycg.gov.tw/opendata/datalist/datasetMeta/outboundDesc?id=5ca2bfc7-9ace-4719-88ae-4034b9a5a55c&rid=a1b4714b-3b75-4ff8-a8f2-cc377e4eaa0f)\n",
        "    -   **資料集ID**: 紀錄資料的基本參數，如包含欄位、更新頻率等\n",
        "    -   **資料RID**: 資料集\n",
        "    -   擷取範例\n",
        ":::\n",
        ":::\n",
        "\n",
        "## JSON格式檔案\n",
        "\n",
        "-   JSON (**J**ava**s**cript **O**bject **N**otation)\n",
        "-   輕量級的資料交換語言\n",
        "-   From **a**pplication **p**rogramming **i**nterfaces (APIs)\n",
        "-   JavaScript、Java、Node.js應用\n",
        "-   一些NoSQL資料庫用JSON儲存資料：**MongoDB**\n",
        "-   [Wiki](http://en.wikipedia.org/wiki/JSON)\n",
        "\n",
        "![](figures/json.png){width=\"383\"}\n",
        "\n",
        "## JSON檔案匯入\n",
        "\n",
        "- 從網路載資料，需要安裝`requests`套件\n",
        "- 處理json資料，需要安裝與載入`json`套件\n"
      ],
      "id": "a5b360cb"
    },
    {
      "cell_type": "code",
      "metadata": {},
      "source": [
        "#| echo: true\n",
        "#| eval: false\n",
        "!pip3 install json requests"
      ],
      "id": "986683c9",
      "execution_count": null,
      "outputs": []
    },
    {
      "cell_type": "code",
      "metadata": {},
      "source": [
        "#| echo: true\n",
        "import json, requests"
      ],
      "id": "86d21e2b",
      "execution_count": null,
      "outputs": []
    },
    {
      "cell_type": "markdown",
      "metadata": {},
      "source": [
        "## JSON檔案匯入\n",
        "\n",
        "-   API網址參考[桃園公共自行車即時服務資料API資訊](http://data.tycg.gov.tw/opendata/datalist/datasetMeta/outboundDesc?id=5ca2bfc7-9ace-4719-88ae-4034b9a5a55c&rid=a1b4714b-3b75-4ff8-a8f2-cc377e4eaa0f)\n"
      ],
      "id": "5f6d0de1"
    },
    {
      "cell_type": "code",
      "metadata": {},
      "source": [
        "#| echo: true\n",
        "url=\"https://data.tycg.gov.tw/api/v1/rest/datastore/a1b4714b-3b75-4ff8-a8f2-cc377e4eaa0f?format=json\"\n",
        "response = requests.get(url)\n",
        "data = response.json()  # Convert the response to JSON\n",
        "print(data)"
      ],
      "id": "9105d242",
      "execution_count": null,
      "outputs": []
    },
    {
      "cell_type": "markdown",
      "metadata": {},
      "source": [
        "## JSON檔案匯入\n",
        "\n",
        "探索資料，發現是dist (data)中放入另一個dist的list\n"
      ],
      "id": "7ec7b9db"
    },
    {
      "cell_type": "code",
      "metadata": {},
      "source": [
        "#| echo: true\n",
        "data[\"result\"][\"records\"]"
      ],
      "id": "0f4347d6",
      "execution_count": null,
      "outputs": []
    },
    {
      "cell_type": "markdown",
      "metadata": {},
      "source": [
        "## JSON檔案匯入\n",
        "\n",
        "探索資料，發現是dist (data)中放入另一個dist的list\n"
      ],
      "id": "2d23f74e"
    },
    {
      "cell_type": "code",
      "metadata": {},
      "source": [
        "#| echo: true\n",
        "data[\"result\"][\"records\"][0]"
      ],
      "id": "f47032d7",
      "execution_count": null,
      "outputs": []
    },
    {
      "cell_type": "markdown",
      "metadata": {},
      "source": [
        "## Hands-on - JSON檔案匯入練習\n",
        "\n",
        "-   練習用資料：[桃園市路外停車資訊](https://data.tycg.gov.tw/opendata/datalist/datasetMeta/download?id=f4cc0b12-86ac-40f9-8745-885bddc18f79&rid=0daad6e6-0632-44f5-bd25-5e1de1e9146f)\n",
        "-   使用檔案匯入**範例**，將資料匯入Python中\n",
        "    -   提示：設定url\n",
        "-   找到資料的儲存處，並將答案print出\n",
        "\n",
        "## 網頁爬蟲 Webscraping\n",
        "\n",
        "-   不是每個網站都提供API\n",
        "-   人工複製貼上?!\n",
        "-   程式化的方式擷取網頁資料: **網頁爬蟲（Webscraping）**（[Webscraping Wiki](http://en.wikipedia.org/wiki/Web_scraping)）\n",
        "-   可能耗費很多網頁流量和資源 －很可能被鎖IP\n",
        "-   使用`beautifulsoup4` 套件輔助\n",
        "\n",
        "## 網頁爬蟲 Webscraping-beautifulsoup4\n",
        "\n",
        "需要先安裝`beautifulsoup4`套件\n"
      ],
      "id": "14578c13"
    },
    {
      "cell_type": "code",
      "metadata": {},
      "source": [
        "#| echo: true\n",
        "#| eval: false\n",
        "!pip3 install beautifulsoup4"
      ],
      "id": "900c3029",
      "execution_count": null,
      "outputs": []
    },
    {
      "cell_type": "markdown",
      "metadata": {},
      "source": [
        "-   擷取條件的撰寫會因網頁語法不同而有差異\n",
        "-   使用**Google Chrome開發工具**輔助觀察擷取資料的條件\n",
        "    -   或使用**SelectorGadget**輔助\n",
        "-   觀察需要擷取的資料所在HTML片段\n",
        "    -   css class為`?`\n",
        "\n",
        "## 即時股價爬取\n",
        "\n",
        "- [Yahoo 股市](https://tw.stock.yahoo.com/)\n",
        "- [Yahoo 股市 - 台積電](https://tw.stock.yahoo.com/quote/2330)\n"
      ],
      "id": "e8c5b647"
    },
    {
      "cell_type": "code",
      "metadata": {},
      "source": [
        "#| echo: true\n",
        "from bs4 import BeautifulSoup\n",
        "NanoStockUrl = \"https://tw.stock.yahoo.com/quote/2330\"\n",
        "res = requests.get(NanoStockUrl)\n",
        "soup = BeautifulSoup(res.text, \"html.parser\")"
      ],
      "id": "10890549",
      "execution_count": null,
      "outputs": []
    },
    {
      "cell_type": "code",
      "metadata": {},
      "source": [
        "#| echo: true\n",
        "price = soup.select(\".Fz\\(32px\\)\")\n",
        "price[0].get_text()"
      ],
      "id": "0673a0a5",
      "execution_count": null,
      "outputs": []
    },
    {
      "cell_type": "markdown",
      "metadata": {},
      "source": [
        "## 即時股價爬取 - 下載html\n"
      ],
      "id": "6329ed52"
    },
    {
      "cell_type": "code",
      "metadata": {},
      "source": [
        "#| echo: true\n",
        "NanoStockUrl = \"https://tw.stock.yahoo.com/quote/2330\"\n",
        "res = requests.get(NanoStockUrl)\n",
        "res.text"
      ],
      "id": "6e1892bf",
      "execution_count": null,
      "outputs": []
    },
    {
      "cell_type": "markdown",
      "metadata": {},
      "source": [
        "## 即時股價爬取 - 解析html\n"
      ],
      "id": "18d7b124"
    },
    {
      "cell_type": "code",
      "metadata": {},
      "source": [
        "#| echo: true\n",
        "soup = BeautifulSoup(res.text, \"html.parser\")\n",
        "price = soup.select(\".Fz\\(32px\\)\")\n",
        "price"
      ],
      "id": "2dbd963d",
      "execution_count": null,
      "outputs": []
    },
    {
      "cell_type": "markdown",
      "metadata": {},
      "source": [
        "## 即時股價爬取 - 取出需要的資料\n"
      ],
      "id": "c1cca30d"
    },
    {
      "cell_type": "code",
      "metadata": {},
      "source": [
        "#| echo: true\n",
        "price[0].get_text()"
      ],
      "id": "cf105356",
      "execution_count": null,
      "outputs": []
    },
    {
      "cell_type": "markdown",
      "metadata": {},
      "source": [
        "## Hands-on 爬蟲練習\n",
        "\n",
        "-   [Ptt Tech_Job 版](https://www.ptt.cc/bbs/Tech_Job/index.html)\n",
        "-   試著爬出所有**標題**\n",
        "-   爬出的第三個標題是？\n",
        "\n",
        "## 網頁爬蟲 再想想？\n",
        "\n",
        "-   其實... 很多資料有其他存取方式，像API\n",
        "    -   https://www.dcard.tw/\\_api/forums/cgu/posts\n",
        "    -   https://www.dcard.tw/\\_api/posts/225917717\n",
        "    -   https://www.dcard.tw/\\_api/posts/225917717/comments\n",
        "-   隱私問題 （OkCupid事件）\n",
        "    -   [70,000 OkCupid Users Just Had Their Data Published](https://motherboard.vice.com/en_us/article/70000-okcupid-users-just-had-their-data-published)\n",
        "\n",
        "\n",
        "## 從網路匯入 - Recap\n",
        "\n",
        "-   Open Data\n",
        "-   API (Application programming interfaces)\n",
        "-   JSON格式檔案\n",
        "-   網頁爬蟲 Webscraping\n",
        "\n",
        "# 資料匯出\n",
        "\n",
        "## 資料匯出\n",
        "\n",
        "-   文字檔 .txt\n",
        "-   CSV檔 .csv\n",
        "-   json檔 .json\n",
        "\n",
        "## 資料匯出 - 文字檔 .txt\n",
        "\n",
        "## 資料匯出 - CSV檔 .csv\n",
        "\n",
        "## 資料匯出 - json檔 .json\n"
      ],
      "id": "bc1c473a"
    }
  ],
  "metadata": {
    "kernelspec": {
      "name": "python3",
      "language": "python",
      "display_name": "Python 3 (ipykernel)"
    }
  },
  "nbformat": 4,
  "nbformat_minor": 5
}